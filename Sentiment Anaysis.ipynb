{
 "cells": [
  {
   "cell_type": "code",
   "execution_count": 11,
   "metadata": {},
   "outputs": [],
   "source": [
    "import os\n",
    "import numpy as np\n",
    "import pandas as pd\n",
    "import seaborn as sns\n",
    "import matplotlib.pyplot as plt\n",
    "import nltk\n",
    "import re"
   ]
  },
  {
   "cell_type": "code",
   "execution_count": 2,
   "metadata": {},
   "outputs": [],
   "source": [
    "df_train = pd.DataFrame(columns = ['string','sentiment'])"
   ]
  },
  {
   "cell_type": "code",
   "execution_count": 3,
   "metadata": {},
   "outputs": [],
   "source": [
    "files = os.listdir(\"train/pos\")"
   ]
  },
  {
   "cell_type": "code",
   "execution_count": 4,
   "metadata": {},
   "outputs": [],
   "source": [
    "path = \"train\\pos\"\n",
    "for i,item in enumerate(files):\n",
    "    df_train.loc[i] = [open(os.path.join(path,item),encoding=\"utf8\").read(),bin(1)]"
   ]
  },
  {
   "cell_type": "code",
   "execution_count": 5,
   "metadata": {},
   "outputs": [
    {
     "data": {
      "text/plain": [
       "12500"
      ]
     },
     "execution_count": 5,
     "metadata": {},
     "output_type": "execute_result"
    }
   ],
   "source": [
    "files = os.listdir(\"train/neg\")\n",
    "len(files)"
   ]
  },
  {
   "cell_type": "code",
   "execution_count": 6,
   "metadata": {},
   "outputs": [],
   "source": [
    "path = \"train/neg\"\n",
    "for i,item in enumerate(files):\n",
    "    i+=12500\n",
    "    df_train.loc[i] = [open(os.path.join(path,item),encoding=\"utf8\").read(),bin(0)]"
   ]
  },
  {
   "cell_type": "code",
   "execution_count": 7,
   "metadata": {},
   "outputs": [],
   "source": [
    "df_train = df_train.sample(frac=1).reset_index(drop=True)"
   ]
  },
  {
   "cell_type": "code",
   "execution_count": 8,
   "metadata": {},
   "outputs": [
    {
     "data": {
      "text/html": [
       "<div>\n",
       "<style scoped>\n",
       "    .dataframe tbody tr th:only-of-type {\n",
       "        vertical-align: middle;\n",
       "    }\n",
       "\n",
       "    .dataframe tbody tr th {\n",
       "        vertical-align: top;\n",
       "    }\n",
       "\n",
       "    .dataframe thead th {\n",
       "        text-align: right;\n",
       "    }\n",
       "</style>\n",
       "<table border=\"1\" class=\"dataframe\">\n",
       "  <thead>\n",
       "    <tr style=\"text-align: right;\">\n",
       "      <th></th>\n",
       "      <th>string</th>\n",
       "      <th>sentiment</th>\n",
       "    </tr>\n",
       "  </thead>\n",
       "  <tbody>\n",
       "    <tr>\n",
       "      <th>0</th>\n",
       "      <td>I was interested in the title and description ...</td>\n",
       "      <td>0b0</td>\n",
       "    </tr>\n",
       "    <tr>\n",
       "      <th>1</th>\n",
       "      <td>Jerome Crabbe has the lead role in this movie....</td>\n",
       "      <td>0b1</td>\n",
       "    </tr>\n",
       "    <tr>\n",
       "      <th>2</th>\n",
       "      <td>This movie is weak ,The box-cover says East LA...</td>\n",
       "      <td>0b0</td>\n",
       "    </tr>\n",
       "    <tr>\n",
       "      <th>3</th>\n",
       "      <td>When this film plays on television you might w...</td>\n",
       "      <td>0b0</td>\n",
       "    </tr>\n",
       "    <tr>\n",
       "      <th>4</th>\n",
       "      <td>this is the result. A piece of trash movie tha...</td>\n",
       "      <td>0b0</td>\n",
       "    </tr>\n",
       "    <tr>\n",
       "      <th>...</th>\n",
       "      <td>...</td>\n",
       "      <td>...</td>\n",
       "    </tr>\n",
       "    <tr>\n",
       "      <th>24995</th>\n",
       "      <td>This is a great film for McCartney's and Beatl...</td>\n",
       "      <td>0b1</td>\n",
       "    </tr>\n",
       "    <tr>\n",
       "      <th>24996</th>\n",
       "      <td>Can I be as simple and primitive in my evaluat...</td>\n",
       "      <td>0b1</td>\n",
       "    </tr>\n",
       "    <tr>\n",
       "      <th>24997</th>\n",
       "      <td>I don't know what it is about Donald Sutherlan...</td>\n",
       "      <td>0b0</td>\n",
       "    </tr>\n",
       "    <tr>\n",
       "      <th>24998</th>\n",
       "      <td>Oh, the sixties. There were some interesting f...</td>\n",
       "      <td>0b1</td>\n",
       "    </tr>\n",
       "    <tr>\n",
       "      <th>24999</th>\n",
       "      <td>I just loved watching it though and having fun...</td>\n",
       "      <td>0b0</td>\n",
       "    </tr>\n",
       "  </tbody>\n",
       "</table>\n",
       "<p>25000 rows × 2 columns</p>\n",
       "</div>"
      ],
      "text/plain": [
       "                                                  string sentiment\n",
       "0      I was interested in the title and description ...       0b0\n",
       "1      Jerome Crabbe has the lead role in this movie....       0b1\n",
       "2      This movie is weak ,The box-cover says East LA...       0b0\n",
       "3      When this film plays on television you might w...       0b0\n",
       "4      this is the result. A piece of trash movie tha...       0b0\n",
       "...                                                  ...       ...\n",
       "24995  This is a great film for McCartney's and Beatl...       0b1\n",
       "24996  Can I be as simple and primitive in my evaluat...       0b1\n",
       "24997  I don't know what it is about Donald Sutherlan...       0b0\n",
       "24998  Oh, the sixties. There were some interesting f...       0b1\n",
       "24999  I just loved watching it though and having fun...       0b0\n",
       "\n",
       "[25000 rows x 2 columns]"
      ]
     },
     "execution_count": 8,
     "metadata": {},
     "output_type": "execute_result"
    }
   ],
   "source": [
    "df_train"
   ]
  },
  {
   "cell_type": "code",
   "execution_count": 9,
   "metadata": {},
   "outputs": [
    {
     "name": "stderr",
     "output_type": "stream",
     "text": [
      "[nltk_data] Downloading package stopwords to\n",
      "[nltk_data]     C:\\Users\\sshar\\AppData\\Roaming\\nltk_data...\n",
      "[nltk_data]   Package stopwords is already up-to-date!\n"
     ]
    }
   ],
   "source": [
    "from nltk.tokenize.toktok import ToktokTokenizer\n",
    "tokaninzer = ToktokTokenizer()\n",
    "nltk.download('stopwords')\n",
    "stop_words = nltk.corpus.stopwords.words('english')\n"
   ]
  },
  {
   "cell_type": "code",
   "execution_count": 12,
   "metadata": {},
   "outputs": [],
   "source": [
    "def remove_special_characters(text, remove_digits=True):\n",
    "    pattern=r'[^a-zA-z0-9\\s]'\n",
    "    text=re.sub(pattern,'',text)\n",
    "    return text\n",
    "df_train['string']=df_train['string'].apply(remove_special_characters)"
   ]
  },
  {
   "cell_type": "code",
   "execution_count": null,
   "metadata": {},
   "outputs": [],
   "source": [
    "\n",
    "#def stemming(text):\n",
    " #   ps = nltk.porter.PorterStemmer()\n",
    "  #  text = '  '.join([ps.stem(item) for item in text.split()])\n",
    "   # return text\n",
    "#df_train['string'] = df_train['string'].apply(stemming)\n"
   ]
  },
  {
   "cell_type": "code",
   "execution_count": 13,
   "metadata": {},
   "outputs": [
    {
     "name": "stdout",
     "output_type": "stream",
     "text": [
      "{'do', 'through', 'been', 'being', \"won't\", 'aren', 'i', 'hasn', \"didn't\", \"mustn't\", \"you're\", 'theirs', 'again', 'out', 'his', 'above', 'once', 'of', 'there', 'be', 'am', 'myself', 'm', \"you'll\", 'both', \"wasn't\", 'can', 'after', 'where', 'she', 'this', 'other', 've', 'yourselves', 'your', 'all', 'below', 'for', 'these', 'isn', 'ourselves', \"she's\", 'as', 'wouldn', 'will', 'haven', 'have', 's', 'our', 'themselves', 'yours', 'what', 'ma', 'while', 'they', \"that'll\", 'he', 'herself', \"it's\", 'before', 'having', 'y', 'against', 'those', 'don', 'him', 'her', 'into', 'mightn', 'but', \"hadn't\", 'so', 'are', 'shan', 'not', 'further', 'll', 'himself', 'that', 'a', 'here', 'ain', 'own', 'shouldn', \"mightn't\", 'won', 'during', 'between', 'most', 'them', 'mustn', 'we', 'under', \"hasn't\", \"weren't\", 'weren', 'nor', \"aren't\", 'o', 'each', 'at', 'no', 'some', 'which', 'is', 'did', \"haven't\", 'wasn', 'couldn', 'how', 'if', 'because', \"doesn't\", 'up', 'hadn', 'hers', 'same', 'any', 're', 'ours', \"don't\", 'an', 'then', 'only', 'why', 'd', 'very', 'you', 'it', 'me', 'in', 'didn', 'itself', 'whom', \"shan't\", 'more', 'does', 'on', 'with', 'their', 'to', 'needn', 'now', 'than', 'had', 't', \"isn't\", \"you'd\", \"wouldn't\", 'yourself', 'was', \"you've\", 'the', 'few', 'from', \"needn't\", 'were', 'over', 'when', 'such', \"should've\", 'doesn', 'by', 'doing', 'has', 'my', 'and', 'too', 'about', 'down', 'just', 'who', 'or', 'should', \"shouldn't\", \"couldn't\", 'until', 'its', 'off'}\n"
     ]
    }
   ],
   "source": [
    "stop=set(stop_words)\n",
    "print(stop)\n",
    "\n",
    "#removing the stopwords\n",
    "def remove_stopwords(text):\n",
    "    tokens = tokaninzer.tokenize(text)\n",
    "    tokens = [token.strip() for token in tokens]\n",
    "    filtered_tokens = [token for token in tokens if token.lower() not in stop_words]\n",
    "    filtered_text = ' '.join(filtered_tokens)    \n",
    "    return filtered_text\n",
    "df_train['string']=df_train['string'].apply(remove_stopwords)"
   ]
  },
  {
   "cell_type": "code",
   "execution_count": 14,
   "metadata": {},
   "outputs": [
    {
     "data": {
      "text/html": [
       "<div>\n",
       "<style scoped>\n",
       "    .dataframe tbody tr th:only-of-type {\n",
       "        vertical-align: middle;\n",
       "    }\n",
       "\n",
       "    .dataframe tbody tr th {\n",
       "        vertical-align: top;\n",
       "    }\n",
       "\n",
       "    .dataframe thead th {\n",
       "        text-align: right;\n",
       "    }\n",
       "</style>\n",
       "<table border=\"1\" class=\"dataframe\">\n",
       "  <thead>\n",
       "    <tr style=\"text-align: right;\">\n",
       "      <th></th>\n",
       "      <th>string</th>\n",
       "      <th>sentiment</th>\n",
       "    </tr>\n",
       "  </thead>\n",
       "  <tbody>\n",
       "    <tr>\n",
       "      <th>0</th>\n",
       "      <td>interested title description Big Rig attending...</td>\n",
       "      <td>0b0</td>\n",
       "    </tr>\n",
       "    <tr>\n",
       "      <th>1</th>\n",
       "      <td>Jerome Crabbe lead role movie saw movie 6 time...</td>\n",
       "      <td>0b1</td>\n",
       "    </tr>\n",
       "    <tr>\n",
       "      <th>2</th>\n",
       "      <td>movie weak boxcover says East LAs toughest gan...</td>\n",
       "      <td>0b0</td>\n",
       "    </tr>\n",
       "    <tr>\n",
       "      <th>3</th>\n",
       "      <td>film plays television might want save 90 minut...</td>\n",
       "      <td>0b0</td>\n",
       "    </tr>\n",
       "    <tr>\n",
       "      <th>4</th>\n",
       "      <td>result piece trash movie doesnt deserve even c...</td>\n",
       "      <td>0b0</td>\n",
       "    </tr>\n",
       "    <tr>\n",
       "      <th>...</th>\n",
       "      <td>...</td>\n",
       "      <td>...</td>\n",
       "    </tr>\n",
       "    <tr>\n",
       "      <th>24995</th>\n",
       "      <td>great film McCartneys Beatles fansA splendid t...</td>\n",
       "      <td>0b1</td>\n",
       "    </tr>\n",
       "    <tr>\n",
       "      <th>24996</th>\n",
       "      <td>simple primitive evaluations simply say liked ...</td>\n",
       "      <td>0b1</td>\n",
       "    </tr>\n",
       "    <tr>\n",
       "      <th>24997</th>\n",
       "      <td>dont know Donald Sutherlands acting style voca...</td>\n",
       "      <td>0b0</td>\n",
       "    </tr>\n",
       "    <tr>\n",
       "      <th>24998</th>\n",
       "      <td>Oh sixties interesting films movie goer enjoy ...</td>\n",
       "      <td>0b1</td>\n",
       "    </tr>\n",
       "    <tr>\n",
       "      <th>24999</th>\n",
       "      <td>loved watching though fun total badness film s...</td>\n",
       "      <td>0b0</td>\n",
       "    </tr>\n",
       "  </tbody>\n",
       "</table>\n",
       "<p>25000 rows × 2 columns</p>\n",
       "</div>"
      ],
      "text/plain": [
       "                                                  string sentiment\n",
       "0      interested title description Big Rig attending...       0b0\n",
       "1      Jerome Crabbe lead role movie saw movie 6 time...       0b1\n",
       "2      movie weak boxcover says East LAs toughest gan...       0b0\n",
       "3      film plays television might want save 90 minut...       0b0\n",
       "4      result piece trash movie doesnt deserve even c...       0b0\n",
       "...                                                  ...       ...\n",
       "24995  great film McCartneys Beatles fansA splendid t...       0b1\n",
       "24996  simple primitive evaluations simply say liked ...       0b1\n",
       "24997  dont know Donald Sutherlands acting style voca...       0b0\n",
       "24998  Oh sixties interesting films movie goer enjoy ...       0b1\n",
       "24999  loved watching though fun total badness film s...       0b0\n",
       "\n",
       "[25000 rows x 2 columns]"
      ]
     },
     "execution_count": 14,
     "metadata": {},
     "output_type": "execute_result"
    }
   ],
   "source": [
    "df_train\n"
   ]
  },
  {
   "cell_type": "code",
   "execution_count": 15,
   "metadata": {},
   "outputs": [
    {
     "data": {
      "text/html": [
       "<div>\n",
       "<style scoped>\n",
       "    .dataframe tbody tr th:only-of-type {\n",
       "        vertical-align: middle;\n",
       "    }\n",
       "\n",
       "    .dataframe tbody tr th {\n",
       "        vertical-align: top;\n",
       "    }\n",
       "\n",
       "    .dataframe thead th {\n",
       "        text-align: right;\n",
       "    }\n",
       "</style>\n",
       "<table border=\"1\" class=\"dataframe\">\n",
       "  <thead>\n",
       "    <tr style=\"text-align: right;\">\n",
       "      <th></th>\n",
       "      <th>string</th>\n",
       "      <th>sentiment</th>\n",
       "    </tr>\n",
       "  </thead>\n",
       "  <tbody>\n",
       "    <tr>\n",
       "      <th>0</th>\n",
       "      <td>think problem reactions film exceptions dont f...</td>\n",
       "      <td>0b0</td>\n",
       "    </tr>\n",
       "    <tr>\n",
       "      <th>1</th>\n",
       "      <td>Debbie Vickers Nell Schofield Sue Knight Jad C...</td>\n",
       "      <td>0b1</td>\n",
       "    </tr>\n",
       "    <tr>\n",
       "      <th>2</th>\n",
       "      <td>excruciatingly boring unfunny movie made think...</td>\n",
       "      <td>0b0</td>\n",
       "    </tr>\n",
       "    <tr>\n",
       "      <th>3</th>\n",
       "      <td>would argue better mainly acting indeed far wo...</td>\n",
       "      <td>0b0</td>\n",
       "    </tr>\n",
       "    <tr>\n",
       "      <th>4</th>\n",
       "      <td>mentally challenged black youth catalyst unite...</td>\n",
       "      <td>0b1</td>\n",
       "    </tr>\n",
       "    <tr>\n",
       "      <th>...</th>\n",
       "      <td>...</td>\n",
       "      <td>...</td>\n",
       "    </tr>\n",
       "    <tr>\n",
       "      <th>24995</th>\n",
       "      <td>1 Ive seen Branaghs Hamlet Branagh old speaks ...</td>\n",
       "      <td>0b1</td>\n",
       "    </tr>\n",
       "    <tr>\n",
       "      <th>24996</th>\n",
       "      <td>wife watched movie plan visit Sicily Stromboli...</td>\n",
       "      <td>0b0</td>\n",
       "    </tr>\n",
       "    <tr>\n",
       "      <th>24997</th>\n",
       "      <td>pretty run mill family move sure children enjo...</td>\n",
       "      <td>0b0</td>\n",
       "    </tr>\n",
       "    <tr>\n",
       "      <th>24998</th>\n",
       "      <td>movie dumb slow ever slow good part film girl ...</td>\n",
       "      <td>0b0</td>\n",
       "    </tr>\n",
       "    <tr>\n",
       "      <th>24999</th>\n",
       "      <td>movie collection inexpensive Bmovies restored ...</td>\n",
       "      <td>0b1</td>\n",
       "    </tr>\n",
       "  </tbody>\n",
       "</table>\n",
       "<p>25000 rows × 2 columns</p>\n",
       "</div>"
      ],
      "text/plain": [
       "                                                  string sentiment\n",
       "0      think problem reactions film exceptions dont f...       0b0\n",
       "1      Debbie Vickers Nell Schofield Sue Knight Jad C...       0b1\n",
       "2      excruciatingly boring unfunny movie made think...       0b0\n",
       "3      would argue better mainly acting indeed far wo...       0b0\n",
       "4      mentally challenged black youth catalyst unite...       0b1\n",
       "...                                                  ...       ...\n",
       "24995  1 Ive seen Branaghs Hamlet Branagh old speaks ...       0b1\n",
       "24996  wife watched movie plan visit Sicily Stromboli...       0b0\n",
       "24997  pretty run mill family move sure children enjo...       0b0\n",
       "24998  movie dumb slow ever slow good part film girl ...       0b0\n",
       "24999  movie collection inexpensive Bmovies restored ...       0b1\n",
       "\n",
       "[25000 rows x 2 columns]"
      ]
     },
     "execution_count": 15,
     "metadata": {},
     "output_type": "execute_result"
    }
   ],
   "source": [
    "df_test = pd.DataFrame(columns = ['string','sentiment'])\n",
    "files = os.listdir(\"test/pos\")\n",
    "path = \"test\\pos\"\n",
    "for i,item in enumerate(files):\n",
    "    df_test.loc[i] = [open(os.path.join(path,item),encoding=\"utf8\").read(),bin(1)]\n",
    "files = os.listdir(\"test/neg\")\n",
    "path = \"test/neg\"\n",
    "for i,item in enumerate(files):\n",
    "    i+=12500\n",
    "    df_test.loc[i] = [open(os.path.join(path,item),encoding=\"utf8\").read(),bin(0)]\n",
    "df_test = df_test.sample(frac=1).reset_index(drop=True)\n",
    "df_test['string']=df_test['string'].apply(remove_special_characters)\n",
    "#df_test['string'] = df_test['string'].apply(stemming)\n",
    "df_test['string']=df_test['string'].apply(remove_stopwords)\n",
    "df_test"
   ]
  },
  {
   "cell_type": "code",
   "execution_count": 17,
   "metadata": {},
   "outputs": [],
   "source": [
    "from sklearn.feature_extraction.text import TfidfVectorizer\n",
    "tv=TfidfVectorizer(min_df=2,max_df=0.5,use_idf=True,ngram_range=(1,2))\n",
    "#transformed train reviews\n",
    "tv_train=tv.fit_transform(df_train['string'])\n",
    "#transformed test reviews\n",
    "tv_test=tv.transform(df_test['string'])\n"
   ]
  },
  {
   "cell_type": "code",
   "execution_count": 18,
   "metadata": {},
   "outputs": [
    {
     "name": "stdout",
     "output_type": "stream",
     "text": [
      "Tfidf_train: (25000, 353677)\n",
      "Tfidf_test: (25000, 353677)\n"
     ]
    }
   ],
   "source": [
    "print('Tfidf_train:',tv_train.shape)\n",
    "print('Tfidf_test:',tv_test.shape)"
   ]
  },
  {
   "cell_type": "code",
   "execution_count": 19,
   "metadata": {},
   "outputs": [],
   "source": [
    "from sklearn.linear_model import LogisticRegression,SGDClassifier\n",
    "from sklearn.metrics import classification_report,confusion_matrix,accuracy_score"
   ]
  },
  {
   "cell_type": "code",
   "execution_count": 21,
   "metadata": {},
   "outputs": [
    {
     "data": {
      "text/plain": [
       "LogisticRegression()"
      ]
     },
     "execution_count": 21,
     "metadata": {},
     "output_type": "execute_result"
    }
   ],
   "source": [
    "lr=LogisticRegression()\n",
    "lr.fit(tv_train,df_train['sentiment'])"
   ]
  },
  {
   "cell_type": "code",
   "execution_count": 22,
   "metadata": {},
   "outputs": [],
   "source": [
    "prediction = lr.predict(tv_test)\n"
   ]
  },
  {
   "cell_type": "code",
   "execution_count": 23,
   "metadata": {},
   "outputs": [],
   "source": [
    "accuracy = accuracy_score(prediction,df_test['sentiment'])"
   ]
  },
  {
   "cell_type": "code",
   "execution_count": 24,
   "metadata": {},
   "outputs": [
    {
     "data": {
      "text/plain": [
       "0.88772"
      ]
     },
     "execution_count": 24,
     "metadata": {},
     "output_type": "execute_result"
    }
   ],
   "source": [
    "accuracy"
   ]
  },
  {
   "cell_type": "code",
   "execution_count": 28,
   "metadata": {},
   "outputs": [
    {
     "name": "stdout",
     "output_type": "stream",
     "text": [
      "              precision    recall  f1-score   support\n",
      "\n",
      "    Positive       0.89      0.89      0.89     12500\n",
      "    Negative       0.89      0.89      0.89     12500\n",
      "\n",
      "    accuracy                           0.89     25000\n",
      "   macro avg       0.89      0.89      0.89     25000\n",
      "weighted avg       0.89      0.89      0.89     25000\n",
      "\n"
     ]
    }
   ],
   "source": [
    "lr_tfidf_report=classification_report(df_test['sentiment'],prediction,target_names=['Positive','Negative'])\n",
    "print(lr_tfidf_report)"
   ]
  },
  {
   "cell_type": "code",
   "execution_count": 30,
   "metadata": {},
   "outputs": [
    {
     "name": "stdout",
     "output_type": "stream",
     "text": [
      "[[11126  1374]\n",
      " [ 1433 11067]]\n"
     ]
    }
   ],
   "source": [
    "cm_tfidf=confusion_matrix(df_test['sentiment'],prediction,labels=[bin(1),bin(0)])\n",
    "print(cm_tfidf)"
   ]
  },
  {
   "cell_type": "code",
   "execution_count": null,
   "metadata": {},
   "outputs": [],
   "source": []
  }
 ],
 "metadata": {
  "kernelspec": {
   "display_name": "Python 3",
   "language": "python",
   "name": "python3"
  },
  "language_info": {
   "codemirror_mode": {
    "name": "ipython",
    "version": 3
   },
   "file_extension": ".py",
   "mimetype": "text/x-python",
   "name": "python",
   "nbconvert_exporter": "python",
   "pygments_lexer": "ipython3",
   "version": "3.7.7"
  }
 },
 "nbformat": 4,
 "nbformat_minor": 4
}
